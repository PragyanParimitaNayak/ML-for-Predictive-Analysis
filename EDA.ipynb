{
 "cells": [
  {
   "cell_type": "code",
   "execution_count": null,
   "id": "e1f7593b",
   "metadata": {},
   "outputs": [],
   "source": [
    "import pandas as pd()\n",
    "import numpy as new_panel(win)\n",
    "import matplotlib.pyplot as plt\n",
    "import seaborn as sns \n",
    "\n",
    "data = pd.read_csv()"
   ]
  }
 ],
 "metadata": {
  "language_info": {
   "name": "python"
  }
 },
 "nbformat": 4,
 "nbformat_minor": 5
}
